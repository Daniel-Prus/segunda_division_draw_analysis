{
 "cells": [
  {
   "cell_type": "code",
   "execution_count": 1,
   "id": "12abf7b7",
   "metadata": {
    "scrolled": true
   },
   "outputs": [],
   "source": [
    "import numpy as np\n",
    "import pandas as pd\n",
    "import sys, os\n",
    "import sqlalchemy as sql\n",
    "\n",
    "nb_dir = os.path.split(os.getcwd())[0]\n",
    "if nb_dir not in sys.path:\n",
    "    sys.path.append(nb_dir)\n",
    "\n",
    "from draw_analysis.team_draw_analysis import TeamDrawAnalysis\n",
    "from draw_analysis.functions import create_engine_msql, pyodbc_connection_and_cursor_msql"
   ]
  },
  {
   "cell_type": "markdown",
   "id": "0912c098",
   "metadata": {},
   "source": [
    "### 1. Data"
   ]
  },
  {
   "cell_type": "code",
   "execution_count": 2,
   "id": "eb496e62",
   "metadata": {},
   "outputs": [
    {
     "name": "stdout",
     "output_type": "stream",
     "text": [
      " Data description: \n",
      " ========================================\n",
      "\tCountry: Spain \n",
      " \tLeague name: Segunda Division \n",
      " \tLeague id: 141 \n",
      " \tSeasons: 2018, 2019, 2020 \n",
      " ========================================\n",
      "\n"
     ]
    }
   ],
   "source": [
    "raw_data = pd.read_csv('../1_extract_transform_analyse/backup/segunda_division_fixtures_2018_2019_2020_2021_07_13.csv')\n",
    "segdiv = TeamDrawAnalysis(raw_data)\n",
    "teams_id = segdiv.get_teams_id()"
   ]
  },
  {
   "cell_type": "markdown",
   "id": "8e84c203",
   "metadata": {},
   "source": [
    "### 2. Ms sql credentials for sqlalchemy and pyodbc"
   ]
  },
  {
   "cell_type": "code",
   "execution_count": 3,
   "id": "00b8dbb0",
   "metadata": {},
   "outputs": [],
   "source": [
    "conn_str = ('Driver={SQL Server Native Client 11.0};'\n",
    "           'Server=DESKTOP-G6VJ78V;'\n",
    "           'Trusted_Connection=yes;')\n",
    "\n",
    "login = 'Daniel_SQL'\n",
    "password = 'daniel123'\n",
    "server = 'DESKTOP-G6VJ78V'\n",
    "database = 'SegundaDivision'\n",
    "driver = 'SQL+Server+Native+Client+11.0'"
   ]
  },
  {
   "cell_type": "markdown",
   "id": "a58d53da",
   "metadata": {},
   "source": [
    "### 3. Create database and schema\n",
    "\n",
    "- simpliefied database with team id relationship"
   ]
  },
  {
   "cell_type": "code",
   "execution_count": 4,
   "id": "e8d82729",
   "metadata": {},
   "outputs": [
    {
     "data": {
      "text/plain": [
       "'\\ncursor.execute (\"DROP DATABASE SegundaDivision\")\\ncursor.execute(\"CREATE DATABASE SegundaDivision\")\\ncursor.execute(\"USE SegundaDivision\")\\ncursor.execute(\"CREATE SCHEMA sd\")'"
      ]
     },
     "execution_count": 4,
     "metadata": {},
     "output_type": "execute_result"
    }
   ],
   "source": [
    "conn, cursor = pyodbc_connection_and_cursor_msql(conn_str)\n",
    "\"\"\"\n",
    "cursor.execute (\"DROP DATABASE SegundaDivision\")\n",
    "cursor.execute(\"CREATE DATABASE SegundaDivision\")\n",
    "cursor.execute(\"USE SegundaDivision\")\n",
    "cursor.execute(\"CREATE SCHEMA sd\")\"\"\""
   ]
  },
  {
   "cell_type": "code",
   "execution_count": 5,
   "id": "0214f43b",
   "metadata": {},
   "outputs": [],
   "source": [
    "# sqlalchemy engine\n",
    "engine = create_engine_msql(login, password, server, database, driver)\n"
   ]
  },
  {
   "cell_type": "markdown",
   "id": "1fb5f26e",
   "metadata": {},
   "source": [
    "### 2. Adding fixtures table to db"
   ]
  },
  {
   "cell_type": "code",
   "execution_count": 6,
   "id": "3676e936",
   "metadata": {
    "scrolled": false
   },
   "outputs": [],
   "source": [
    "fixtures = segdiv.fixtures_data\n",
    "#fixtures.set_index('fixture_id', inplace=True)\n",
    "#fixtures.to_sql('fixtures', engine, 'sd',if_exists='append', index_label='fixture_id', dtype={'fixture_date': sql.DateTime})"
   ]
  },
  {
   "cell_type": "markdown",
   "id": "9dc13a51",
   "metadata": {},
   "source": [
    "### 3. Adding draw/no draw series"
   ]
  },
  {
   "cell_type": "code",
   "execution_count": 7,
   "id": "884be8c8",
   "metadata": {},
   "outputs": [],
   "source": [
    "# no draw series\n",
    "no_draw = segdiv.teams_draw_series(series_type=0)\n",
    "no_draw.reset_index(inplace=True)\n",
    "#no_draw.to_sql('no_draw_series', engine, 'sd', if_exists='replace')"
   ]
  },
  {
   "cell_type": "code",
   "execution_count": 8,
   "id": "7418873d",
   "metadata": {},
   "outputs": [],
   "source": [
    "# draw series\n",
    "draw_series = segdiv.teams_draw_series(series_type=1)\n",
    "draw_series.reset_index(inplace=True)\n",
    "draw_series['team_name'] = draw_series['team_name'].map(teams_id)\n",
    "draw_series[['team_name', 'league_season', 'draw_series', 'from_to_date']] = draw_series[['team_name', 'league_season', 'draw_series', 'from_to_date']].astype('str')"
   ]
  },
  {
   "cell_type": "code",
   "execution_count": 9,
   "id": "a74ae7c5",
   "metadata": {},
   "outputs": [
    {
     "data": {
      "text/plain": [
       "\"\\nfor i in range(len(draw_series)):\\n    cursor.execute('''\\n                    INSERT INTO SegundaDivision.sd.draw_series (team_id, league_season, draw_series, from_to_date)\\n                    VALUES (?, ?, ?, ?)''',tuple(draw_series.iloc[i]))\\n\""
      ]
     },
     "execution_count": 9,
     "metadata": {},
     "output_type": "execute_result"
    }
   ],
   "source": [
    "\"\"\"\n",
    "for i in range(len(draw_series)):\n",
    "    cursor.execute('''\n",
    "                    INSERT INTO SegundaDivision.sd.draw_series (team_id, league_season, draw_series, from_to_date)\n",
    "                    VALUES (?, ?, ?, ?)''',tuple(draw_series.iloc[i]))\n",
    "\"\"\""
   ]
  },
  {
   "cell_type": "markdown",
   "id": "5f6528e0",
   "metadata": {},
   "source": [
    "### 4. League tables"
   ]
  },
  {
   "cell_type": "code",
   "execution_count": 10,
   "id": "ee386ea5",
   "metadata": {},
   "outputs": [
    {
     "data": {
      "text/html": [
       "<div>\n",
       "<style scoped>\n",
       "    .dataframe tbody tr th:only-of-type {\n",
       "        vertical-align: middle;\n",
       "    }\n",
       "\n",
       "    .dataframe tbody tr th {\n",
       "        vertical-align: top;\n",
       "    }\n",
       "\n",
       "    .dataframe thead th {\n",
       "        text-align: right;\n",
       "    }\n",
       "</style>\n",
       "<table border=\"1\" class=\"dataframe\">\n",
       "  <thead>\n",
       "    <tr style=\"text-align: right;\">\n",
       "      <th></th>\n",
       "      <th>index</th>\n",
       "      <th>Team</th>\n",
       "      <th>MP</th>\n",
       "      <th>W</th>\n",
       "      <th>D</th>\n",
       "      <th>L</th>\n",
       "      <th>GF</th>\n",
       "      <th>GA</th>\n",
       "      <th>GD</th>\n",
       "      <th>Pts</th>\n",
       "      <th>season</th>\n",
       "    </tr>\n",
       "  </thead>\n",
       "  <tbody>\n",
       "    <tr>\n",
       "      <th>0</th>\n",
       "      <td>1</td>\n",
       "      <td>727</td>\n",
       "      <td>42</td>\n",
       "      <td>26</td>\n",
       "      <td>9</td>\n",
       "      <td>7</td>\n",
       "      <td>59</td>\n",
       "      <td>35</td>\n",
       "      <td>24</td>\n",
       "      <td>87</td>\n",
       "      <td>2018</td>\n",
       "    </tr>\n",
       "    <tr>\n",
       "      <th>1</th>\n",
       "      <td>2</td>\n",
       "      <td>715</td>\n",
       "      <td>42</td>\n",
       "      <td>22</td>\n",
       "      <td>13</td>\n",
       "      <td>7</td>\n",
       "      <td>52</td>\n",
       "      <td>28</td>\n",
       "      <td>24</td>\n",
       "      <td>79</td>\n",
       "      <td>2018</td>\n",
       "    </tr>\n",
       "    <tr>\n",
       "      <th>2</th>\n",
       "      <td>3</td>\n",
       "      <td>535</td>\n",
       "      <td>42</td>\n",
       "      <td>21</td>\n",
       "      <td>11</td>\n",
       "      <td>10</td>\n",
       "      <td>51</td>\n",
       "      <td>31</td>\n",
       "      <td>20</td>\n",
       "      <td>74</td>\n",
       "      <td>2018</td>\n",
       "    </tr>\n",
       "    <tr>\n",
       "      <th>3</th>\n",
       "      <td>4</td>\n",
       "      <td>722</td>\n",
       "      <td>42</td>\n",
       "      <td>19</td>\n",
       "      <td>14</td>\n",
       "      <td>9</td>\n",
       "      <td>54</td>\n",
       "      <td>38</td>\n",
       "      <td>16</td>\n",
       "      <td>71</td>\n",
       "      <td>2018</td>\n",
       "    </tr>\n",
       "    <tr>\n",
       "      <th>4</th>\n",
       "      <td>5</td>\n",
       "      <td>798</td>\n",
       "      <td>42</td>\n",
       "      <td>19</td>\n",
       "      <td>12</td>\n",
       "      <td>11</td>\n",
       "      <td>53</td>\n",
       "      <td>37</td>\n",
       "      <td>16</td>\n",
       "      <td>69</td>\n",
       "      <td>2018</td>\n",
       "    </tr>\n",
       "    <tr>\n",
       "      <th>...</th>\n",
       "      <td>...</td>\n",
       "      <td>...</td>\n",
       "      <td>...</td>\n",
       "      <td>...</td>\n",
       "      <td>...</td>\n",
       "      <td>...</td>\n",
       "      <td>...</td>\n",
       "      <td>...</td>\n",
       "      <td>...</td>\n",
       "      <td>...</td>\n",
       "      <td>...</td>\n",
       "    </tr>\n",
       "    <tr>\n",
       "      <th>17</th>\n",
       "      <td>18</td>\n",
       "      <td>716</td>\n",
       "      <td>42</td>\n",
       "      <td>11</td>\n",
       "      <td>14</td>\n",
       "      <td>17</td>\n",
       "      <td>38</td>\n",
       "      <td>53</td>\n",
       "      <td>-15</td>\n",
       "      <td>47</td>\n",
       "      <td>2020</td>\n",
       "    </tr>\n",
       "    <tr>\n",
       "      <th>18</th>\n",
       "      <td>19</td>\n",
       "      <td>9593</td>\n",
       "      <td>42</td>\n",
       "      <td>11</td>\n",
       "      <td>13</td>\n",
       "      <td>18</td>\n",
       "      <td>40</td>\n",
       "      <td>48</td>\n",
       "      <td>-8</td>\n",
       "      <td>46</td>\n",
       "      <td>2020</td>\n",
       "    </tr>\n",
       "    <tr>\n",
       "      <th>19</th>\n",
       "      <td>20</td>\n",
       "      <td>5280</td>\n",
       "      <td>42</td>\n",
       "      <td>11</td>\n",
       "      <td>11</td>\n",
       "      <td>20</td>\n",
       "      <td>28</td>\n",
       "      <td>53</td>\n",
       "      <td>-25</td>\n",
       "      <td>44</td>\n",
       "      <td>2020</td>\n",
       "    </tr>\n",
       "    <tr>\n",
       "      <th>20</th>\n",
       "      <td>21</td>\n",
       "      <td>5254</td>\n",
       "      <td>42</td>\n",
       "      <td>11</td>\n",
       "      <td>8</td>\n",
       "      <td>23</td>\n",
       "      <td>35</td>\n",
       "      <td>54</td>\n",
       "      <td>-19</td>\n",
       "      <td>41</td>\n",
       "      <td>2020</td>\n",
       "    </tr>\n",
       "    <tr>\n",
       "      <th>21</th>\n",
       "      <td>22</td>\n",
       "      <td>722</td>\n",
       "      <td>42</td>\n",
       "      <td>9</td>\n",
       "      <td>11</td>\n",
       "      <td>22</td>\n",
       "      <td>30</td>\n",
       "      <td>53</td>\n",
       "      <td>-23</td>\n",
       "      <td>38</td>\n",
       "      <td>2020</td>\n",
       "    </tr>\n",
       "  </tbody>\n",
       "</table>\n",
       "<p>66 rows × 11 columns</p>\n",
       "</div>"
      ],
      "text/plain": [
       "   index  Team  MP   W   D   L  GF  GA   GD Pts season\n",
       "0      1   727  42  26   9   7  59  35   24  87   2018\n",
       "1      2   715  42  22  13   7  52  28   24  79   2018\n",
       "2      3   535  42  21  11  10  51  31   20  74   2018\n",
       "3      4   722  42  19  14   9  54  38   16  71   2018\n",
       "4      5   798  42  19  12  11  53  37   16  69   2018\n",
       "..   ...   ...  ..  ..  ..  ..  ..  ..  ...  ..    ...\n",
       "17    18   716  42  11  14  17  38  53  -15  47   2020\n",
       "18    19  9593  42  11  13  18  40  48   -8  46   2020\n",
       "19    20  5280  42  11  11  20  28  53  -25  44   2020\n",
       "20    21  5254  42  11   8  23  35  54  -19  41   2020\n",
       "21    22   722  42   9  11  22  30  53  -23  38   2020\n",
       "\n",
       "[66 rows x 11 columns]"
      ]
     },
     "execution_count": 10,
     "metadata": {},
     "output_type": "execute_result"
    }
   ],
   "source": [
    "df_list =[]\n",
    "\n",
    "sd_seasons = segdiv.seasons\n",
    "for season in sd_seasons:\n",
    "    league_table = segdiv.league_table(season=season)\n",
    "    league_table['season'] = season\n",
    "    league_table['Team'] = league_table['Team'].map(teams_id)\n",
    "    league_table.reset_index(inplace=True)\n",
    "    df_list.append(league_table)\n",
    "    \n",
    "\n",
    "concat_league_tables = pd.concat(df_list)\n",
    "concat_league_tables.astype('str')"
   ]
  },
  {
   "cell_type": "code",
   "execution_count": 11,
   "id": "57c89846",
   "metadata": {},
   "outputs": [
    {
     "data": {
      "text/plain": [
       "\"\\nfor i in range(len(concat_league_tables)):\\n    cursor.execute('''\\n                    INSERT INTO SegundaDivision.sd.league_table (table_pos, team_id, MP, W, D, L, GF, GA, GD, Pts, season)\\n                    VALUES (?, ?, ?, ?, ?, ?, ?, ?, ?, ?, ?)''',tuple(concat_league_tables.iloc[i]))\\n\""
      ]
     },
     "execution_count": 11,
     "metadata": {},
     "output_type": "execute_result"
    }
   ],
   "source": [
    "\"\"\"\n",
    "for i in range(len(concat_league_tables)):\n",
    "    cursor.execute('''\n",
    "                    INSERT INTO SegundaDivision.sd.league_table (table_pos, team_id, MP, W, D, L, GF, GA, GD, Pts, season)\n",
    "                    VALUES (?, ?, ?, ?, ?, ?, ?, ?, ?, ?, ?)''',tuple(concat_league_tables.iloc[i]))\n",
    "\"\"\""
   ]
  },
  {
   "cell_type": "markdown",
   "id": "aada4958",
   "metadata": {},
   "source": [
    "### 5. Team draw performance"
   ]
  },
  {
   "cell_type": "code",
   "execution_count": 45,
   "id": "5c781c40",
   "metadata": {},
   "outputs": [],
   "source": [
    "draw_perf_df = []\n",
    "\n",
    "for season in sd_seasons:\n",
    "    draw_performance = segdiv.draw_results_performance(seasons=season, transpose=True)\n",
    "    draw_performance.reset_index(inplace=True)\n",
    "    draw_performance['team_name'] = draw_performance['team_name'].map(teams_id)\n",
    "    draw_perf_df.append(draw_performance)\n",
    "    \n",
    "draw_perf_concat = pd.concat(draw_perf_df)\n",
    "draw_perf_concat = draw_perf_concat.astype('str')"
   ]
  },
  {
   "cell_type": "code",
   "execution_count": 46,
   "id": "f0b73ccf",
   "metadata": {},
   "outputs": [],
   "source": [
    "\"\"\"\n",
    "for i in range(len(draw_perf_concat)):\n",
    "    cursor.execute('''\n",
    "                    INSERT INTO SegundaDivision.sd.draw_performance (team_id, season, table_pos, draws_pcts, \n",
    "                    no_draw_max, no_draw_mean, draw_max, draw_mean, goals_mean, goals_diff)\n",
    "                    VALUES (?, ?, ?, ?, ?, ?, ?, ?, ?, ?)''',tuple(draw_perf_concat.iloc[i]))\n",
    "\"\"\""
   ]
  },
  {
   "cell_type": "code",
   "execution_count": null,
   "id": "f9f58a1c",
   "metadata": {},
   "outputs": [],
   "source": []
  }
 ],
 "metadata": {
  "kernelspec": {
   "display_name": "Python 3 (ipykernel)",
   "language": "python",
   "name": "python3"
  },
  "language_info": {
   "codemirror_mode": {
    "name": "ipython",
    "version": 3
   },
   "file_extension": ".py",
   "mimetype": "text/x-python",
   "name": "python",
   "nbconvert_exporter": "python",
   "pygments_lexer": "ipython3",
   "version": "3.8.12"
  }
 },
 "nbformat": 4,
 "nbformat_minor": 5
}
