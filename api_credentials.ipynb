{
 "cells": [
  {
   "cell_type": "code",
   "execution_count": 2,
   "id": "fallen-remove",
   "metadata": {},
   "outputs": [],
   "source": [
    "credentials = {\n",
    "    'x-rapidapi-key': \"18db4e93d3msh2bce642a0779195p1b3739jsnd06db2e924dc\",\n",
    "    'x-rapidapi-host': \"api-football-beta.p.rapidapi.com\"\n",
    "    }"
   ]
  }
 ],
 "metadata": {
  "kernelspec": {
   "display_name": "Python 3",
   "language": "python",
   "name": "python3"
  },
  "language_info": {
   "codemirror_mode": {
    "name": "ipython",
    "version": 3
   },
   "file_extension": ".py",
   "mimetype": "text/x-python",
   "name": "python",
   "nbconvert_exporter": "python",
   "pygments_lexer": "ipython3",
   "version": "3.8.8"
  }
 },
 "nbformat": 4,
 "nbformat_minor": 5
}
