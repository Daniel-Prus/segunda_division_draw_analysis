{
 "cells": [
  {
   "cell_type": "code",
   "execution_count": 1,
   "id": "ddd0d1df",
   "metadata": {},
   "outputs": [
    {
     "ename": "SyntaxError",
     "evalue": "invalid syntax (Temp/ipykernel_15144/635371395.py, line 4)",
     "output_type": "error",
     "traceback": [
      "\u001b[1;36m  File \u001b[1;32m\"C:\\Users\\admin\\AppData\\Local\\Temp/ipykernel_15144/635371395.py\"\u001b[1;36m, line \u001b[1;32m4\u001b[0m\n\u001b[1;33m    from draw_analysis\u001b[0m\n\u001b[1;37m                      ^\u001b[0m\n\u001b[1;31mSyntaxError\u001b[0m\u001b[1;31m:\u001b[0m invalid syntax\n"
     ]
    }
   ],
   "source": [
    "import numpy as np\n",
    "import pandas as pd\n",
    "from draw_analysis.draw_analysis import DrawAnalysis"
   ]
  },
  {
   "cell_type": "code",
   "execution_count": null,
   "id": "41462313",
   "metadata": {},
   "outputs": [],
   "source": [
    "fixtures = pd.read_csv('backup/segunda_division_fixtures_2018_2019_2020_2021_07_13.csv')"
   ]
  },
  {
   "cell_type": "code",
   "execution_count": null,
   "id": "7759a504",
   "metadata": {},
   "outputs": [],
   "source": [
    "fixtures.head()"
   ]
  },
  {
   "cell_type": "code",
   "execution_count": null,
   "id": "76969aa9",
   "metadata": {
    "scrolled": true
   },
   "outputs": [],
   "source": [
    "segunda_division = DrawAnalysis(fixtures)"
   ]
  },
  {
   "cell_type": "code",
   "execution_count": null,
   "id": "14e70a59",
   "metadata": {},
   "outputs": [],
   "source": [
    "# percent of draw results - seasons - 2018,2019,2020.\n",
    "segunda_division.draw_score"
   ]
  },
  {
   "cell_type": "markdown",
   "id": "0832ebab",
   "metadata": {},
   "source": [
    "### 1. Matches results summary - count"
   ]
  },
  {
   "cell_type": "code",
   "execution_count": null,
   "id": "27a83eda",
   "metadata": {
    "scrolled": true
   },
   "outputs": [],
   "source": [
    "segunda_division.results_sum(rslts_type='count')"
   ]
  },
  {
   "cell_type": "code",
   "execution_count": null,
   "id": "3338de6a",
   "metadata": {},
   "outputs": [],
   "source": [
    "segunda_division.match_results_total_plot(rslts_type='pcts')"
   ]
  },
  {
   "cell_type": "code",
   "execution_count": null,
   "id": "3f74c43a",
   "metadata": {
    "scrolled": false
   },
   "outputs": [],
   "source": [
    "segunda_division.match_results_plot(rslts_type='count')\n",
    "print (\"\"\"In the 2020 season (epidemic season), can be observed an increase in the ratio of away wins to draws (results flattening).\n",
    "The situation is probably caused by the lack of an advantage to play at home with fans.\"\"\")"
   ]
  },
  {
   "cell_type": "markdown",
   "id": "b71cf65f",
   "metadata": {},
   "source": [
    "### 2. Percentage share of results"
   ]
  },
  {
   "cell_type": "code",
   "execution_count": null,
   "id": "d3b0f396",
   "metadata": {},
   "outputs": [],
   "source": [
    "segunda_division.results_sum(rslts_type='pcts')"
   ]
  },
  {
   "cell_type": "code",
   "execution_count": null,
   "id": "99fc478a",
   "metadata": {},
   "outputs": [],
   "source": [
    "# total\n",
    "segunda_division.results_pcts_pie_plot()"
   ]
  },
  {
   "cell_type": "code",
   "execution_count": null,
   "id": "502d99ae",
   "metadata": {},
   "outputs": [],
   "source": [
    "# per season subplots\n",
    "segunda_division.results_pcts_pie_plot(subplots=True)"
   ]
  },
  {
   "cell_type": "markdown",
   "id": "9481ad12",
   "metadata": {},
   "source": [
    "### 3. Monthly results"
   ]
  },
  {
   "cell_type": "code",
   "execution_count": null,
   "id": "448ff721",
   "metadata": {},
   "outputs": [],
   "source": [
    "segunda_division.month_results()"
   ]
  },
  {
   "cell_type": "code",
   "execution_count": null,
   "id": "cfbc2010",
   "metadata": {},
   "outputs": [],
   "source": [
    "# total\n",
    "segunda_division.results_per_month_pcts_plot()"
   ]
  },
  {
   "cell_type": "code",
   "execution_count": null,
   "id": "9ca65c32",
   "metadata": {},
   "outputs": [],
   "source": []
  }
 ],
 "metadata": {
  "kernelspec": {
   "display_name": "Python 3 (ipykernel)",
   "language": "python",
   "name": "python3"
  },
  "language_info": {
   "codemirror_mode": {
    "name": "ipython",
    "version": 3
   },
   "file_extension": ".py",
   "mimetype": "text/x-python",
   "name": "python",
   "nbconvert_exporter": "python",
   "pygments_lexer": "ipython3",
   "version": "3.8.12"
  }
 },
 "nbformat": 4,
 "nbformat_minor": 5
}
