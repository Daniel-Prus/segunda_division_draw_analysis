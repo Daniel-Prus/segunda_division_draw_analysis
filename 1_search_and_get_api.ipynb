{
 "cells": [
  {
   "cell_type": "code",
   "execution_count": 18,
   "id": "f3a7b249",
   "metadata": {},
   "outputs": [],
   "source": [
    "#requires an API key to work properly\n",
    "from draw_analysis.get_api import GetApiFootballData\n",
    "\n",
    "%run api_credentials.ipynb"
   ]
  },
  {
   "cell_type": "code",
   "execution_count": 11,
   "id": "5def7829",
   "metadata": {},
   "outputs": [],
   "source": [
    "credentials_sample = {\n",
    "    'x-rapidapi-key': '',\n",
    "    'x-rapidapi-host':''\n",
    "    }"
   ]
  },
  {
   "cell_type": "code",
   "execution_count": 12,
   "id": "0d867275",
   "metadata": {},
   "outputs": [
    {
     "name": "stdout",
     "output_type": "stream",
     "text": [
      "Help on class GetApiFootballData in module draw_analysis.get_api:\n",
      "\n",
      "class GetApiFootballData(builtins.object)\n",
      " |  GetApiFootballData(credentials)\n",
      " |  \n",
      " |  GetApiFootballData class is used to search and download fixtures data from API-Football-Beta.\n",
      " |  \n",
      " |  The class allows to easily search for the looking league ID by calling function'get_country_leagues_overview'\n",
      " |  with country name.\n",
      " |  \n",
      " |  To check details and league seasons availability in API-Football-Beta source call function 'get_seasons_details'.\n",
      " |  \n",
      " |  Proper operation require API headers, which can be obtained by registering at https://rapidapi.com/.\n",
      " |  \n",
      " |  For more information about API-Football-Beta visit https://rapidapi.com/api-sports/api/api-football-beta/.\n",
      " |  \n",
      " |  \n",
      " |   'Class attributes'\n",
      " |   ------------------\n",
      " |       fixtures_url(str): API-Football-Beta url to download fixtures data.\n",
      " |       league_url(str): API-Football-Beta url to find lique ID.\n",
      " |  \n",
      " |   'Attributes'\n",
      " |   ------------\n",
      " |       credentials (dict): Rapid API headers - { 'x-rapidapi-key':'',  'x-rapidapi-host':''}.\n",
      " |       country_leagues_overview (pd.DataFrame): established in paralell with calling function\n",
      " |                                               'get_country_leagues_overview'\n",
      " |  \n",
      " |  Methods defined here:\n",
      " |  \n",
      " |  __init__(self, credentials)\n",
      " |      Initialize self.  See help(type(self)) for accurate signature.\n",
      " |  \n",
      " |  get_country_leagues_overview(self, country)\n",
      " |      Find and get league ID by providing country name.\n",
      " |      \n",
      " |      Parameters\n",
      " |      ----------\n",
      " |      \n",
      " |      country (str): country name in english language.\n",
      " |      \n",
      " |      Returns\n",
      " |      ----------\n",
      " |      pandas.core.frame.DataFrame: table with leagues description for requested country.\n",
      " |  \n",
      " |  get_fixtures_data(self, league_id, seasons)\n",
      " |      Get fixtures data from Api-Football-Beta.\n",
      " |      \n",
      " |      Parameters\n",
      " |      ----------\n",
      " |      \n",
      " |      leauge_id (str or int): API-Football-Beta league ID for request.\n",
      " |      \n",
      " |      seasons (list or int): 'list (str or int)' of league seasons. 'Int' for single season for request.\n",
      " |      \n",
      " |      Returns\n",
      " |      ----------\n",
      " |      pandas.core.frame.DataFrame: concatenated pandas DataFrame object.\n",
      " |  \n",
      " |  get_seasons_details(self, league_id)\n",
      " |      Get seasons details - availability, years, start and end of season.\n",
      " |      Method requires calculated 'country_leagues_overview' attribute by running method\n",
      " |      'get_country_leagues_overview'.\n",
      " |      \n",
      " |      Parameters\n",
      " |      ----------\n",
      " |      \n",
      " |      league_id (str): API-Football-Beta league ID.\n",
      " |      \n",
      " |      Returns\n",
      " |      ----------\n",
      " |      pandas.core.frame.DataFrame: table with leagues description for requested country.\n",
      " |  \n",
      " |  ----------------------------------------------------------------------\n",
      " |  Data descriptors defined here:\n",
      " |  \n",
      " |  __dict__\n",
      " |      dictionary for instance variables (if defined)\n",
      " |  \n",
      " |  __weakref__\n",
      " |      list of weak references to the object (if defined)\n",
      " |  \n",
      " |  ----------------------------------------------------------------------\n",
      " |  Data and other attributes defined here:\n",
      " |  \n",
      " |  fixtures_url = 'https://api-football-beta.p.rapidapi.com/fixtures'\n",
      " |  \n",
      " |  league_url = 'https://api-football-beta.p.rapidapi.com/leagues'\n",
      "\n"
     ]
    }
   ],
   "source": [
    "help(GetApiFootballData)"
   ]
  },
  {
   "cell_type": "code",
   "execution_count": 14,
   "id": "0d549807",
   "metadata": {},
   "outputs": [
    {
     "name": "stdout",
     "output_type": "stream",
     "text": [
      "Response status code: 200\n",
      "Connection successfull.\n"
     ]
    }
   ],
   "source": [
    "api = GetApiFootballData(credentials)"
   ]
  },
  {
   "cell_type": "code",
   "execution_count": 15,
   "id": "08371a7b",
   "metadata": {},
   "outputs": [],
   "source": [
    "spain = api.get_country_leagues_overview('Spain')"
   ]
  },
  {
   "cell_type": "code",
   "execution_count": 20,
   "id": "43a9264b",
   "metadata": {},
   "outputs": [
    {
     "data": {
      "text/html": [
       "<div>\n",
       "<style scoped>\n",
       "    .dataframe tbody tr th:only-of-type {\n",
       "        vertical-align: middle;\n",
       "    }\n",
       "\n",
       "    .dataframe tbody tr th {\n",
       "        vertical-align: top;\n",
       "    }\n",
       "\n",
       "    .dataframe thead th {\n",
       "        text-align: right;\n",
       "    }\n",
       "</style>\n",
       "<table border=\"1\" class=\"dataframe\">\n",
       "  <thead>\n",
       "    <tr style=\"text-align: right;\">\n",
       "      <th></th>\n",
       "      <th>league.name</th>\n",
       "      <th>league.type</th>\n",
       "      <th>country.name</th>\n",
       "    </tr>\n",
       "    <tr>\n",
       "      <th>league.id</th>\n",
       "      <th></th>\n",
       "      <th></th>\n",
       "      <th></th>\n",
       "    </tr>\n",
       "  </thead>\n",
       "  <tbody>\n",
       "    <tr>\n",
       "      <th>140</th>\n",
       "      <td>La Liga</td>\n",
       "      <td>League</td>\n",
       "      <td>Spain</td>\n",
       "    </tr>\n",
       "    <tr>\n",
       "      <th>141</th>\n",
       "      <td>Segunda Division</td>\n",
       "      <td>League</td>\n",
       "      <td>Spain</td>\n",
       "    </tr>\n",
       "    <tr>\n",
       "      <th>142</th>\n",
       "      <td>Primera Division Women</td>\n",
       "      <td>League</td>\n",
       "      <td>Spain</td>\n",
       "    </tr>\n",
       "    <tr>\n",
       "      <th>556</th>\n",
       "      <td>Super Cup</td>\n",
       "      <td>Cup</td>\n",
       "      <td>Spain</td>\n",
       "    </tr>\n",
       "    <tr>\n",
       "      <th>143</th>\n",
       "      <td>Copa del Rey</td>\n",
       "      <td>Cup</td>\n",
       "      <td>Spain</td>\n",
       "    </tr>\n",
       "  </tbody>\n",
       "</table>\n",
       "</div>"
      ],
      "text/plain": [
       "                      league.name league.type country.name\n",
       "league.id                                                 \n",
       "140                       La Liga      League        Spain\n",
       "141              Segunda Division      League        Spain\n",
       "142        Primera Division Women      League        Spain\n",
       "556                     Super Cup         Cup        Spain\n",
       "143                  Copa del Rey         Cup        Spain"
      ]
     },
     "execution_count": 20,
     "metadata": {},
     "output_type": "execute_result"
    }
   ],
   "source": [
    "spain.head()"
   ]
  },
  {
   "cell_type": "code",
   "execution_count": 19,
   "id": "661701a7",
   "metadata": {},
   "outputs": [
    {
     "name": "stdout",
     "output_type": "stream",
     "text": [
      "country.name               Spain\n",
      "league.name     Segunda Division\n",
      "Name: 141, dtype: object\n"
     ]
    },
    {
     "data": {
      "text/html": [
       "<div>\n",
       "<style scoped>\n",
       "    .dataframe tbody tr th:only-of-type {\n",
       "        vertical-align: middle;\n",
       "    }\n",
       "\n",
       "    .dataframe tbody tr th {\n",
       "        vertical-align: top;\n",
       "    }\n",
       "\n",
       "    .dataframe thead th {\n",
       "        text-align: right;\n",
       "    }\n",
       "</style>\n",
       "<table border=\"1\" class=\"dataframe\">\n",
       "  <thead>\n",
       "    <tr style=\"text-align: right;\">\n",
       "      <th></th>\n",
       "      <th>year</th>\n",
       "      <th>start</th>\n",
       "      <th>end</th>\n",
       "    </tr>\n",
       "  </thead>\n",
       "  <tbody>\n",
       "    <tr>\n",
       "      <th>0</th>\n",
       "      <td>2016</td>\n",
       "      <td>2016-08-19</td>\n",
       "      <td>2017-06-24</td>\n",
       "    </tr>\n",
       "    <tr>\n",
       "      <th>1</th>\n",
       "      <td>2017</td>\n",
       "      <td>2017-08-18</td>\n",
       "      <td>2018-06-16</td>\n",
       "    </tr>\n",
       "    <tr>\n",
       "      <th>2</th>\n",
       "      <td>2018</td>\n",
       "      <td>2018-08-17</td>\n",
       "      <td>2019-06-16</td>\n",
       "    </tr>\n",
       "    <tr>\n",
       "      <th>3</th>\n",
       "      <td>2019</td>\n",
       "      <td>2019-08-17</td>\n",
       "      <td>2020-08-23</td>\n",
       "    </tr>\n",
       "    <tr>\n",
       "      <th>4</th>\n",
       "      <td>2020</td>\n",
       "      <td>2020-09-12</td>\n",
       "      <td>2021-06-20</td>\n",
       "    </tr>\n",
       "    <tr>\n",
       "      <th>5</th>\n",
       "      <td>2021</td>\n",
       "      <td>2021-08-13</td>\n",
       "      <td>2022-05-29</td>\n",
       "    </tr>\n",
       "  </tbody>\n",
       "</table>\n",
       "</div>"
      ],
      "text/plain": [
       "   year       start         end\n",
       "0  2016  2016-08-19  2017-06-24\n",
       "1  2017  2017-08-18  2018-06-16\n",
       "2  2018  2018-08-17  2019-06-16\n",
       "3  2019  2019-08-17  2020-08-23\n",
       "4  2020  2020-09-12  2021-06-20\n",
       "5  2021  2021-08-13  2022-05-29"
      ]
     },
     "execution_count": 19,
     "metadata": {},
     "output_type": "execute_result"
    }
   ],
   "source": [
    "# segunda division \n",
    "api.get_seasons_details(141)"
   ]
  },
  {
   "cell_type": "code",
   "execution_count": null,
   "id": "8f542d9e",
   "metadata": {},
   "outputs": [],
   "source": []
  }
 ],
 "metadata": {
  "kernelspec": {
   "display_name": "Python 3 (ipykernel)",
   "language": "python",
   "name": "python3"
  },
  "language_info": {
   "codemirror_mode": {
    "name": "ipython",
    "version": 3
   },
   "file_extension": ".py",
   "mimetype": "text/x-python",
   "name": "python",
   "nbconvert_exporter": "python",
   "pygments_lexer": "ipython3",
   "version": "3.8.12"
  }
 },
 "nbformat": 4,
 "nbformat_minor": 5
}
